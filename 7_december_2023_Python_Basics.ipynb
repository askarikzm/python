{
 "cells": [
  {
   "cell_type": "markdown",
   "metadata": {},
   "source": [
    "1st assingment of pythons basic\n",
    "TOPIC: Python Basics Variable"
   ]
  },
  {
   "cell_type": "code",
   "execution_count": null,
   "metadata": {},
   "outputs": [],
   "source": [
    "# question 1\n",
    "#using a asssingment opreator and variable to assign value to a variable\n",
    "x=10   #variable 1\n",
    "y=20    #variable 2\n"
   ]
  },
  {
   "cell_type": "code",
   "execution_count": 2,
   "metadata": {},
   "outputs": [
    {
     "name": "stdout",
     "output_type": "stream",
     "text": [
      "value of first before swap variable = 10\n",
      "value of second before swap variable = 20\n",
      "value of first after swap variable = 20\n",
      "value of second after swap variable= 10\n"
     ]
    }
   ],
   "source": [
    "# question 1\n",
    "#using a asssingment opreator and variable to assign value to a variable\n",
    "x=10   #variable 1\n",
    "y=20    #variable 2\n",
    "print(\"value of first before swap variable =\",x)\n",
    "print(\"value of second before swap variable =\",y)\n",
    "#swaping the variable \n",
    "x=x+y  #10+20=30=x\n",
    "y=x-y  #10-20=10=y\n",
    "x=x-y  #30-10=x=20\n",
    "y=x-y  #20-10=y=10\n",
    "print(\"value of first after swap variable =\",x)\n",
    "print(\"value of second after swap variable=\",y)\n"
   ]
  },
  {
   "cell_type": "code",
   "execution_count": 18,
   "metadata": {},
   "outputs": [
    {
     "name": "stdout",
     "output_type": "stream",
     "text": [
      " Enter length of rectangle\n",
      "Enter width of rectangle\n",
      "'Area' of Rectangle 100\n"
     ]
    }
   ],
   "source": [
    "print(\" Enter length of rectangle\") #print statement\n",
    "x=int(input())  # first input,then typecasting opreation,then store in x\n",
    "print(\"Enter width of rectangle\")\n",
    "y=int(input()) # first input,then typecasting opreation,then store in y\n",
    "z=y*x  #Implementing formula\n",
    "print(\"'Area' of Rectangle\",z) #printing"
   ]
  },
  {
   "cell_type": "code",
   "execution_count": 20,
   "metadata": {},
   "outputs": [
    {
     "name": "stdout",
     "output_type": "stream",
     "text": [
      "Temprature value will  Fahrenheit = 122.0\n"
     ]
    }
   ],
   "source": [
    "#Question 3\n",
    "x=int(input(\"enter value of celsius\"))\n",
    "#converting it into  Fahrenheit\n",
    "y=x*(9/5)+32    #computing value of  Fahrenheit\n",
    "print(\"Temprature value will  Fahrenheit =\",y)\n",
    "\n"
   ]
  },
  {
   "cell_type": "markdown",
   "metadata": {},
   "source": [
    "TOPIC: String Based Questions"
   ]
  },
  {
   "cell_type": "code",
   "execution_count": 23,
   "metadata": {},
   "outputs": [
    {
     "name": "stdout",
     "output_type": "stream",
     "text": [
      "6\n"
     ]
    }
   ],
   "source": [
    "# Question 1\n",
    "x=input(\"enter a string format\")\n",
    "print(len(x)) #function built-in len gives the no of ch in a string"
   ]
  },
  {
   "cell_type": "code",
   "execution_count": 34,
   "metadata": {},
   "outputs": [
    {
     "name": "stdout",
     "output_type": "stream",
     "text": [
      "Number of vowel in strings are 3\n"
     ]
    }
   ],
   "source": [
    "'''Create a program that takes a sentence from the user and counts the number\n",
    "of vowels (a, e, i, o, u) in the string.'''\n",
    "x=input(\"enter a sentence\")\n",
    "check=0\n",
    "for char in x:\n",
    "    if char.lower() in 'aeiou':\n",
    "        check += 1\n",
    "print(\"Number of vowel in strings are\",check)\n",
    "\n",
    "\n",
    "\n"
   ]
  },
  {
   "cell_type": "code",
   "execution_count": 26,
   "metadata": {},
   "outputs": [
    {
     "name": "stdout",
     "output_type": "stream",
     "text": [
      "Printing in reverse order pakistan\n"
     ]
    }
   ],
   "source": [
    "#Question 3\n",
    "x=input(\"enter a string format\")\n",
    "#reverse triversing the string and printing it\n",
    "print(\"Printing in reverse order\",x[::-1])"
   ]
  },
  {
   "cell_type": "code",
   "execution_count": 28,
   "metadata": {},
   "outputs": [
    {
     "name": "stdout",
     "output_type": "stream",
     "text": [
      "word is a palindrome\n"
     ]
    }
   ],
   "source": [
    "#Question 4 palindrome check\n",
    "x=input(\"enter a string format\")\n",
    "if x[::1]==x[::-1] : #using a if condtion and triversing forward and backward\n",
    " print(\"word is a palindrome\") # if target statement match\n",
    "else:\n",
    " print(\"Word is not a  palindrome\")  #target not found!\n",
    "                                   "
   ]
  },
  {
   "cell_type": "code",
   "execution_count": 31,
   "metadata": {},
   "outputs": [
    {
     "name": "stdout",
     "output_type": "stream",
     "text": [
      "mynameisaskari\n"
     ]
    }
   ],
   "source": [
    "#Question 5 \n",
    "#create a program remove spaces from string\n",
    "x=input(\"enter a string format\")\n",
    "x=x.replace(\" \",\"\")  #.replace function which return another string\n",
    "print(x)\n"
   ]
  }
 ],
 "metadata": {
  "kernelspec": {
   "display_name": "Python 3",
   "language": "python",
   "name": "python3"
  },
  "language_info": {
   "codemirror_mode": {
    "name": "ipython",
    "version": 3
   },
   "file_extension": ".py",
   "mimetype": "text/x-python",
   "name": "python",
   "nbconvert_exporter": "python",
   "pygments_lexer": "ipython3",
   "version": "3.10.11"
  }
 },
 "nbformat": 4,
 "nbformat_minor": 2
}
